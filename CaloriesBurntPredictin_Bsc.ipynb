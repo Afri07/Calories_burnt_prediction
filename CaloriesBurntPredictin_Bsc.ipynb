{
  "nbformat": 4,
  "nbformat_minor": 0,
  "metadata": {
    "colab": {
      "provenance": []
    },
    "kernelspec": {
      "name": "python3",
      "display_name": "Python 3"
    },
    "language_info": {
      "name": "python"
    }
  },
  "cells": [
    {
      "cell_type": "code",
      "execution_count": null,
      "metadata": {
        "id": "mzIAyJDY_a5M"
      },
      "outputs": [],
      "source": [
        "#import libraries\n",
        "import numpy as np\n",
        "import pandas as pd\n",
        "import matplotlib.pyplot as plt\n",
        "import seaborn as sns\n",
        "from sklearn.model_selection import train_test_split\n",
        "#from sklearn.linear_model import LinearRegression\n",
        "from sklearn.ensemble import RandomForestRegressor\n",
        "#from xgboost import XGBRegressor\n",
        "from sklearn import metrics"
      ]
    },
    {
      "cell_type": "code",
      "source": [
        "#Read csv file of calories\n",
        "calories = pd.read_csv('/content/Calories Sheet - Data.csv')"
      ],
      "metadata": {
        "id": "cdveMRxNBDTT"
      },
      "execution_count": null,
      "outputs": []
    },
    {
      "cell_type": "code",
      "source": [
        "calories.head()"
      ],
      "metadata": {
        "colab": {
          "base_uri": "https://localhost:8080/",
          "height": 206
        },
        "id": "qU8_02ULBMbi",
        "outputId": "1f70ae7d-8841-4e2b-acda-72eaa3f12d11"
      },
      "execution_count": null,
      "outputs": [
        {
          "output_type": "execute_result",
          "data": {
            "text/plain": [
              "    User_ID  Gender  Age  Height  Weight  Duration  Heart_Rate  Body_Temp  \\\n",
              "0  10001159  female   67     176      74        12         103       39.6   \n",
              "1  10005485  female   38     178      77        14          82       40.5   \n",
              "2  10006441    male   23     169      73        25         102       40.7   \n",
              "3  10007368  female   21     185      80        12         103       39.9   \n",
              "4  10008086    male   56     165      74        25          93       40.8   \n",
              "\n",
              "  Exercise_Type  Calories  \n",
              "0        Cardio        76  \n",
              "1       Machine        49  \n",
              "2        Cardio       122  \n",
              "3       Machine        65  \n",
              "4        Cardio       129  "
            ],
            "text/html": [
              "\n",
              "  <div id=\"df-10306f22-a328-43ad-9d70-897faff2d373\">\n",
              "    <div class=\"colab-df-container\">\n",
              "      <div>\n",
              "<style scoped>\n",
              "    .dataframe tbody tr th:only-of-type {\n",
              "        vertical-align: middle;\n",
              "    }\n",
              "\n",
              "    .dataframe tbody tr th {\n",
              "        vertical-align: top;\n",
              "    }\n",
              "\n",
              "    .dataframe thead th {\n",
              "        text-align: right;\n",
              "    }\n",
              "</style>\n",
              "<table border=\"1\" class=\"dataframe\">\n",
              "  <thead>\n",
              "    <tr style=\"text-align: right;\">\n",
              "      <th></th>\n",
              "      <th>User_ID</th>\n",
              "      <th>Gender</th>\n",
              "      <th>Age</th>\n",
              "      <th>Height</th>\n",
              "      <th>Weight</th>\n",
              "      <th>Duration</th>\n",
              "      <th>Heart_Rate</th>\n",
              "      <th>Body_Temp</th>\n",
              "      <th>Exercise_Type</th>\n",
              "      <th>Calories</th>\n",
              "    </tr>\n",
              "  </thead>\n",
              "  <tbody>\n",
              "    <tr>\n",
              "      <th>0</th>\n",
              "      <td>10001159</td>\n",
              "      <td>female</td>\n",
              "      <td>67</td>\n",
              "      <td>176</td>\n",
              "      <td>74</td>\n",
              "      <td>12</td>\n",
              "      <td>103</td>\n",
              "      <td>39.6</td>\n",
              "      <td>Cardio</td>\n",
              "      <td>76</td>\n",
              "    </tr>\n",
              "    <tr>\n",
              "      <th>1</th>\n",
              "      <td>10005485</td>\n",
              "      <td>female</td>\n",
              "      <td>38</td>\n",
              "      <td>178</td>\n",
              "      <td>77</td>\n",
              "      <td>14</td>\n",
              "      <td>82</td>\n",
              "      <td>40.5</td>\n",
              "      <td>Machine</td>\n",
              "      <td>49</td>\n",
              "    </tr>\n",
              "    <tr>\n",
              "      <th>2</th>\n",
              "      <td>10006441</td>\n",
              "      <td>male</td>\n",
              "      <td>23</td>\n",
              "      <td>169</td>\n",
              "      <td>73</td>\n",
              "      <td>25</td>\n",
              "      <td>102</td>\n",
              "      <td>40.7</td>\n",
              "      <td>Cardio</td>\n",
              "      <td>122</td>\n",
              "    </tr>\n",
              "    <tr>\n",
              "      <th>3</th>\n",
              "      <td>10007368</td>\n",
              "      <td>female</td>\n",
              "      <td>21</td>\n",
              "      <td>185</td>\n",
              "      <td>80</td>\n",
              "      <td>12</td>\n",
              "      <td>103</td>\n",
              "      <td>39.9</td>\n",
              "      <td>Machine</td>\n",
              "      <td>65</td>\n",
              "    </tr>\n",
              "    <tr>\n",
              "      <th>4</th>\n",
              "      <td>10008086</td>\n",
              "      <td>male</td>\n",
              "      <td>56</td>\n",
              "      <td>165</td>\n",
              "      <td>74</td>\n",
              "      <td>25</td>\n",
              "      <td>93</td>\n",
              "      <td>40.8</td>\n",
              "      <td>Cardio</td>\n",
              "      <td>129</td>\n",
              "    </tr>\n",
              "  </tbody>\n",
              "</table>\n",
              "</div>\n",
              "      <button class=\"colab-df-convert\" onclick=\"convertToInteractive('df-10306f22-a328-43ad-9d70-897faff2d373')\"\n",
              "              title=\"Convert this dataframe to an interactive table.\"\n",
              "              style=\"display:none;\">\n",
              "        \n",
              "  <svg xmlns=\"http://www.w3.org/2000/svg\" height=\"24px\"viewBox=\"0 0 24 24\"\n",
              "       width=\"24px\">\n",
              "    <path d=\"M0 0h24v24H0V0z\" fill=\"none\"/>\n",
              "    <path d=\"M18.56 5.44l.94 2.06.94-2.06 2.06-.94-2.06-.94-.94-2.06-.94 2.06-2.06.94zm-11 1L8.5 8.5l.94-2.06 2.06-.94-2.06-.94L8.5 2.5l-.94 2.06-2.06.94zm10 10l.94 2.06.94-2.06 2.06-.94-2.06-.94-.94-2.06-.94 2.06-2.06.94z\"/><path d=\"M17.41 7.96l-1.37-1.37c-.4-.4-.92-.59-1.43-.59-.52 0-1.04.2-1.43.59L10.3 9.45l-7.72 7.72c-.78.78-.78 2.05 0 2.83L4 21.41c.39.39.9.59 1.41.59.51 0 1.02-.2 1.41-.59l7.78-7.78 2.81-2.81c.8-.78.8-2.07 0-2.86zM5.41 20L4 18.59l7.72-7.72 1.47 1.35L5.41 20z\"/>\n",
              "  </svg>\n",
              "      </button>\n",
              "      \n",
              "  <style>\n",
              "    .colab-df-container {\n",
              "      display:flex;\n",
              "      flex-wrap:wrap;\n",
              "      gap: 12px;\n",
              "    }\n",
              "\n",
              "    .colab-df-convert {\n",
              "      background-color: #E8F0FE;\n",
              "      border: none;\n",
              "      border-radius: 50%;\n",
              "      cursor: pointer;\n",
              "      display: none;\n",
              "      fill: #1967D2;\n",
              "      height: 32px;\n",
              "      padding: 0 0 0 0;\n",
              "      width: 32px;\n",
              "    }\n",
              "\n",
              "    .colab-df-convert:hover {\n",
              "      background-color: #E2EBFA;\n",
              "      box-shadow: 0px 1px 2px rgba(60, 64, 67, 0.3), 0px 1px 3px 1px rgba(60, 64, 67, 0.15);\n",
              "      fill: #174EA6;\n",
              "    }\n",
              "\n",
              "    [theme=dark] .colab-df-convert {\n",
              "      background-color: #3B4455;\n",
              "      fill: #D2E3FC;\n",
              "    }\n",
              "\n",
              "    [theme=dark] .colab-df-convert:hover {\n",
              "      background-color: #434B5C;\n",
              "      box-shadow: 0px 1px 3px 1px rgba(0, 0, 0, 0.15);\n",
              "      filter: drop-shadow(0px 1px 2px rgba(0, 0, 0, 0.3));\n",
              "      fill: #FFFFFF;\n",
              "    }\n",
              "  </style>\n",
              "\n",
              "      <script>\n",
              "        const buttonEl =\n",
              "          document.querySelector('#df-10306f22-a328-43ad-9d70-897faff2d373 button.colab-df-convert');\n",
              "        buttonEl.style.display =\n",
              "          google.colab.kernel.accessAllowed ? 'block' : 'none';\n",
              "\n",
              "        async function convertToInteractive(key) {\n",
              "          const element = document.querySelector('#df-10306f22-a328-43ad-9d70-897faff2d373');\n",
              "          const dataTable =\n",
              "            await google.colab.kernel.invokeFunction('convertToInteractive',\n",
              "                                                     [key], {});\n",
              "          if (!dataTable) return;\n",
              "\n",
              "          const docLinkHtml = 'Like what you see? Visit the ' +\n",
              "            '<a target=\"_blank\" href=https://colab.research.google.com/notebooks/data_table.ipynb>data table notebook</a>'\n",
              "            + ' to learn more about interactive tables.';\n",
              "          element.innerHTML = '';\n",
              "          dataTable['output_type'] = 'display_data';\n",
              "          await google.colab.output.renderOutput(dataTable, element);\n",
              "          const docLink = document.createElement('div');\n",
              "          docLink.innerHTML = docLinkHtml;\n",
              "          element.appendChild(docLink);\n",
              "        }\n",
              "      </script>\n",
              "    </div>\n",
              "  </div>\n",
              "  "
            ]
          },
          "metadata": {},
          "execution_count": 3
        }
      ]
    },
    {
      "cell_type": "code",
      "source": [
        "#check rows and coloums\n",
        "calories.shape"
      ],
      "metadata": {
        "colab": {
          "base_uri": "https://localhost:8080/"
        },
        "id": "22bO431VBOdK",
        "outputId": "a6d264d3-5bd8-45a4-f774-f2503651c805"
      },
      "execution_count": null,
      "outputs": [
        {
          "output_type": "execute_result",
          "data": {
            "text/plain": [
              "(4319, 10)"
            ]
          },
          "metadata": {},
          "execution_count": 4
        }
      ]
    },
    {
      "cell_type": "code",
      "source": [
        "#more info about dataset\n",
        "calories.info()"
      ],
      "metadata": {
        "colab": {
          "base_uri": "https://localhost:8080/"
        },
        "id": "4m1Pxg9tBTvC",
        "outputId": "f6f2e0c1-216d-4b63-e023-c39bb7358677"
      },
      "execution_count": null,
      "outputs": [
        {
          "output_type": "stream",
          "name": "stdout",
          "text": [
            "<class 'pandas.core.frame.DataFrame'>\n",
            "RangeIndex: 4319 entries, 0 to 4318\n",
            "Data columns (total 10 columns):\n",
            " #   Column         Non-Null Count  Dtype  \n",
            "---  ------         --------------  -----  \n",
            " 0   User_ID        4319 non-null   int64  \n",
            " 1   Gender         4319 non-null   object \n",
            " 2   Age            4319 non-null   int64  \n",
            " 3   Height         4319 non-null   int64  \n",
            " 4   Weight         4319 non-null   int64  \n",
            " 5   Duration       4319 non-null   int64  \n",
            " 6   Heart_Rate     4319 non-null   int64  \n",
            " 7   Body_Temp      4319 non-null   float64\n",
            " 8   Exercise_Type  4319 non-null   object \n",
            " 9   Calories       4319 non-null   int64  \n",
            "dtypes: float64(1), int64(7), object(2)\n",
            "memory usage: 337.5+ KB\n"
          ]
        }
      ]
    },
    {
      "cell_type": "code",
      "source": [
        "#check for null values\n",
        "calories.isnull().sum()"
      ],
      "metadata": {
        "colab": {
          "base_uri": "https://localhost:8080/"
        },
        "id": "0d4F_HgnBY7L",
        "outputId": "32607356-4f92-40e3-f22a-072c5d2afec5"
      },
      "execution_count": null,
      "outputs": [
        {
          "output_type": "execute_result",
          "data": {
            "text/plain": [
              "User_ID          0\n",
              "Gender           0\n",
              "Age              0\n",
              "Height           0\n",
              "Weight           0\n",
              "Duration         0\n",
              "Heart_Rate       0\n",
              "Body_Temp        0\n",
              "Exercise_Type    0\n",
              "Calories         0\n",
              "dtype: int64"
            ]
          },
          "metadata": {},
          "execution_count": 6
        }
      ]
    },
    {
      "cell_type": "code",
      "source": [
        "#convert gender into categorical data\n",
        "#calories.replace({\"Gender\":{'male':0, 'female':1}}, inplace=True)"
      ],
      "metadata": {
        "id": "W88GD38nBfmq"
      },
      "execution_count": null,
      "outputs": []
    },
    {
      "cell_type": "code",
      "source": [
        "#convert gender into categorical data\n",
        "#calories.replace({\"Exercise_Type\":{'Cardio':0, 'Machine':1}}, inplace=True)"
      ],
      "metadata": {
        "id": "dBCcOkr8CV5r"
      },
      "execution_count": null,
      "outputs": []
    },
    {
      "cell_type": "code",
      "source": [
        "calories['Gender'] = pd.factorize(calories.Gender)[0]\n",
        "calories['Exercise_Type'] = pd.factorize(calories.Exercise_Type)[0]"
      ],
      "metadata": {
        "id": "tTAcVhjGKYKM"
      },
      "execution_count": null,
      "outputs": []
    },
    {
      "cell_type": "code",
      "source": [
        "calories.head()"
      ],
      "metadata": {
        "colab": {
          "base_uri": "https://localhost:8080/",
          "height": 206
        },
        "id": "a1XFTV3iBkpi",
        "outputId": "2933f638-645a-4fd8-b91e-1ff67c98e0b2"
      },
      "execution_count": null,
      "outputs": [
        {
          "output_type": "execute_result",
          "data": {
            "text/plain": [
              "    User_ID  Gender  Age  Height  Weight  Duration  Heart_Rate  Body_Temp  \\\n",
              "0  10001159       0   67     176      74        12         103       39.6   \n",
              "1  10005485       0   38     178      77        14          82       40.5   \n",
              "2  10006441       1   23     169      73        25         102       40.7   \n",
              "3  10007368       0   21     185      80        12         103       39.9   \n",
              "4  10008086       1   56     165      74        25          93       40.8   \n",
              "\n",
              "   Exercise_Type  Calories  \n",
              "0              0        76  \n",
              "1              1        49  \n",
              "2              0       122  \n",
              "3              1        65  \n",
              "4              0       129  "
            ],
            "text/html": [
              "\n",
              "  <div id=\"df-8529551e-9de1-4d9e-b14e-ad357c24c55c\">\n",
              "    <div class=\"colab-df-container\">\n",
              "      <div>\n",
              "<style scoped>\n",
              "    .dataframe tbody tr th:only-of-type {\n",
              "        vertical-align: middle;\n",
              "    }\n",
              "\n",
              "    .dataframe tbody tr th {\n",
              "        vertical-align: top;\n",
              "    }\n",
              "\n",
              "    .dataframe thead th {\n",
              "        text-align: right;\n",
              "    }\n",
              "</style>\n",
              "<table border=\"1\" class=\"dataframe\">\n",
              "  <thead>\n",
              "    <tr style=\"text-align: right;\">\n",
              "      <th></th>\n",
              "      <th>User_ID</th>\n",
              "      <th>Gender</th>\n",
              "      <th>Age</th>\n",
              "      <th>Height</th>\n",
              "      <th>Weight</th>\n",
              "      <th>Duration</th>\n",
              "      <th>Heart_Rate</th>\n",
              "      <th>Body_Temp</th>\n",
              "      <th>Exercise_Type</th>\n",
              "      <th>Calories</th>\n",
              "    </tr>\n",
              "  </thead>\n",
              "  <tbody>\n",
              "    <tr>\n",
              "      <th>0</th>\n",
              "      <td>10001159</td>\n",
              "      <td>0</td>\n",
              "      <td>67</td>\n",
              "      <td>176</td>\n",
              "      <td>74</td>\n",
              "      <td>12</td>\n",
              "      <td>103</td>\n",
              "      <td>39.6</td>\n",
              "      <td>0</td>\n",
              "      <td>76</td>\n",
              "    </tr>\n",
              "    <tr>\n",
              "      <th>1</th>\n",
              "      <td>10005485</td>\n",
              "      <td>0</td>\n",
              "      <td>38</td>\n",
              "      <td>178</td>\n",
              "      <td>77</td>\n",
              "      <td>14</td>\n",
              "      <td>82</td>\n",
              "      <td>40.5</td>\n",
              "      <td>1</td>\n",
              "      <td>49</td>\n",
              "    </tr>\n",
              "    <tr>\n",
              "      <th>2</th>\n",
              "      <td>10006441</td>\n",
              "      <td>1</td>\n",
              "      <td>23</td>\n",
              "      <td>169</td>\n",
              "      <td>73</td>\n",
              "      <td>25</td>\n",
              "      <td>102</td>\n",
              "      <td>40.7</td>\n",
              "      <td>0</td>\n",
              "      <td>122</td>\n",
              "    </tr>\n",
              "    <tr>\n",
              "      <th>3</th>\n",
              "      <td>10007368</td>\n",
              "      <td>0</td>\n",
              "      <td>21</td>\n",
              "      <td>185</td>\n",
              "      <td>80</td>\n",
              "      <td>12</td>\n",
              "      <td>103</td>\n",
              "      <td>39.9</td>\n",
              "      <td>1</td>\n",
              "      <td>65</td>\n",
              "    </tr>\n",
              "    <tr>\n",
              "      <th>4</th>\n",
              "      <td>10008086</td>\n",
              "      <td>1</td>\n",
              "      <td>56</td>\n",
              "      <td>165</td>\n",
              "      <td>74</td>\n",
              "      <td>25</td>\n",
              "      <td>93</td>\n",
              "      <td>40.8</td>\n",
              "      <td>0</td>\n",
              "      <td>129</td>\n",
              "    </tr>\n",
              "  </tbody>\n",
              "</table>\n",
              "</div>\n",
              "      <button class=\"colab-df-convert\" onclick=\"convertToInteractive('df-8529551e-9de1-4d9e-b14e-ad357c24c55c')\"\n",
              "              title=\"Convert this dataframe to an interactive table.\"\n",
              "              style=\"display:none;\">\n",
              "        \n",
              "  <svg xmlns=\"http://www.w3.org/2000/svg\" height=\"24px\"viewBox=\"0 0 24 24\"\n",
              "       width=\"24px\">\n",
              "    <path d=\"M0 0h24v24H0V0z\" fill=\"none\"/>\n",
              "    <path d=\"M18.56 5.44l.94 2.06.94-2.06 2.06-.94-2.06-.94-.94-2.06-.94 2.06-2.06.94zm-11 1L8.5 8.5l.94-2.06 2.06-.94-2.06-.94L8.5 2.5l-.94 2.06-2.06.94zm10 10l.94 2.06.94-2.06 2.06-.94-2.06-.94-.94-2.06-.94 2.06-2.06.94z\"/><path d=\"M17.41 7.96l-1.37-1.37c-.4-.4-.92-.59-1.43-.59-.52 0-1.04.2-1.43.59L10.3 9.45l-7.72 7.72c-.78.78-.78 2.05 0 2.83L4 21.41c.39.39.9.59 1.41.59.51 0 1.02-.2 1.41-.59l7.78-7.78 2.81-2.81c.8-.78.8-2.07 0-2.86zM5.41 20L4 18.59l7.72-7.72 1.47 1.35L5.41 20z\"/>\n",
              "  </svg>\n",
              "      </button>\n",
              "      \n",
              "  <style>\n",
              "    .colab-df-container {\n",
              "      display:flex;\n",
              "      flex-wrap:wrap;\n",
              "      gap: 12px;\n",
              "    }\n",
              "\n",
              "    .colab-df-convert {\n",
              "      background-color: #E8F0FE;\n",
              "      border: none;\n",
              "      border-radius: 50%;\n",
              "      cursor: pointer;\n",
              "      display: none;\n",
              "      fill: #1967D2;\n",
              "      height: 32px;\n",
              "      padding: 0 0 0 0;\n",
              "      width: 32px;\n",
              "    }\n",
              "\n",
              "    .colab-df-convert:hover {\n",
              "      background-color: #E2EBFA;\n",
              "      box-shadow: 0px 1px 2px rgba(60, 64, 67, 0.3), 0px 1px 3px 1px rgba(60, 64, 67, 0.15);\n",
              "      fill: #174EA6;\n",
              "    }\n",
              "\n",
              "    [theme=dark] .colab-df-convert {\n",
              "      background-color: #3B4455;\n",
              "      fill: #D2E3FC;\n",
              "    }\n",
              "\n",
              "    [theme=dark] .colab-df-convert:hover {\n",
              "      background-color: #434B5C;\n",
              "      box-shadow: 0px 1px 3px 1px rgba(0, 0, 0, 0.15);\n",
              "      filter: drop-shadow(0px 1px 2px rgba(0, 0, 0, 0.3));\n",
              "      fill: #FFFFFF;\n",
              "    }\n",
              "  </style>\n",
              "\n",
              "      <script>\n",
              "        const buttonEl =\n",
              "          document.querySelector('#df-8529551e-9de1-4d9e-b14e-ad357c24c55c button.colab-df-convert');\n",
              "        buttonEl.style.display =\n",
              "          google.colab.kernel.accessAllowed ? 'block' : 'none';\n",
              "\n",
              "        async function convertToInteractive(key) {\n",
              "          const element = document.querySelector('#df-8529551e-9de1-4d9e-b14e-ad357c24c55c');\n",
              "          const dataTable =\n",
              "            await google.colab.kernel.invokeFunction('convertToInteractive',\n",
              "                                                     [key], {});\n",
              "          if (!dataTable) return;\n",
              "\n",
              "          const docLinkHtml = 'Like what you see? Visit the ' +\n",
              "            '<a target=\"_blank\" href=https://colab.research.google.com/notebooks/data_table.ipynb>data table notebook</a>'\n",
              "            + ' to learn more about interactive tables.';\n",
              "          element.innerHTML = '';\n",
              "          dataTable['output_type'] = 'display_data';\n",
              "          await google.colab.output.renderOutput(dataTable, element);\n",
              "          const docLink = document.createElement('div');\n",
              "          docLink.innerHTML = docLinkHtml;\n",
              "          element.appendChild(docLink);\n",
              "        }\n",
              "      </script>\n",
              "    </div>\n",
              "  </div>\n",
              "  "
            ]
          },
          "metadata": {},
          "execution_count": 10
        }
      ]
    },
    {
      "cell_type": "code",
      "source": [
        "calories.describe()"
      ],
      "metadata": {
        "colab": {
          "base_uri": "https://localhost:8080/",
          "height": 300
        },
        "id": "eMJNafF3Bnt6",
        "outputId": "965c0f8a-5042-4adc-e4e1-09c1f56193ff"
      },
      "execution_count": null,
      "outputs": [
        {
          "output_type": "execute_result",
          "data": {
            "text/plain": [
              "            User_ID       Gender          Age       Height       Weight  \\\n",
              "count  4.319000e+03  4319.000000  4319.000000  4319.000000  4319.000000   \n",
              "mean   1.429595e+07     0.560083    42.669136   176.827043    77.376013   \n",
              "std    2.598391e+06     0.496434    16.483814    12.516185    13.448229   \n",
              "min    1.000116e+07     0.000000    21.000000   147.000000    56.000000   \n",
              "25%    1.204210e+07     0.000000    28.000000   167.000000    66.000000   \n",
              "50%    1.418591e+07     1.000000    39.000000   176.000000    77.000000   \n",
              "75%    1.633527e+07     1.000000    55.000000   186.000000    88.000000   \n",
              "max    1.999858e+07     1.000000    79.000000   213.000000   124.000000   \n",
              "\n",
              "          Duration   Heart_Rate    Body_Temp  Exercise_Type     Calories  \n",
              "count  4319.000000  4319.000000  4319.000000    4319.000000  4319.000000  \n",
              "mean     16.742996    96.468164    40.257837       0.499884    93.116925  \n",
              "std       5.933957     7.736953     0.393566       0.500058    51.320917  \n",
              "min      10.000000    77.000000    39.200000       0.000000    18.000000  \n",
              "25%      12.000000    91.000000    40.000000       0.000000    55.000000  \n",
              "50%      15.000000    96.000000    40.200000       0.000000    71.000000  \n",
              "75%      21.000000   102.000000    40.600000       1.000000   127.000000  \n",
              "max      30.000000   125.000000    41.500000       1.000000   314.000000  "
            ],
            "text/html": [
              "\n",
              "  <div id=\"df-84c06523-0b72-4b2f-aded-cea1c216a4c8\">\n",
              "    <div class=\"colab-df-container\">\n",
              "      <div>\n",
              "<style scoped>\n",
              "    .dataframe tbody tr th:only-of-type {\n",
              "        vertical-align: middle;\n",
              "    }\n",
              "\n",
              "    .dataframe tbody tr th {\n",
              "        vertical-align: top;\n",
              "    }\n",
              "\n",
              "    .dataframe thead th {\n",
              "        text-align: right;\n",
              "    }\n",
              "</style>\n",
              "<table border=\"1\" class=\"dataframe\">\n",
              "  <thead>\n",
              "    <tr style=\"text-align: right;\">\n",
              "      <th></th>\n",
              "      <th>User_ID</th>\n",
              "      <th>Gender</th>\n",
              "      <th>Age</th>\n",
              "      <th>Height</th>\n",
              "      <th>Weight</th>\n",
              "      <th>Duration</th>\n",
              "      <th>Heart_Rate</th>\n",
              "      <th>Body_Temp</th>\n",
              "      <th>Exercise_Type</th>\n",
              "      <th>Calories</th>\n",
              "    </tr>\n",
              "  </thead>\n",
              "  <tbody>\n",
              "    <tr>\n",
              "      <th>count</th>\n",
              "      <td>4.319000e+03</td>\n",
              "      <td>4319.000000</td>\n",
              "      <td>4319.000000</td>\n",
              "      <td>4319.000000</td>\n",
              "      <td>4319.000000</td>\n",
              "      <td>4319.000000</td>\n",
              "      <td>4319.000000</td>\n",
              "      <td>4319.000000</td>\n",
              "      <td>4319.000000</td>\n",
              "      <td>4319.000000</td>\n",
              "    </tr>\n",
              "    <tr>\n",
              "      <th>mean</th>\n",
              "      <td>1.429595e+07</td>\n",
              "      <td>0.560083</td>\n",
              "      <td>42.669136</td>\n",
              "      <td>176.827043</td>\n",
              "      <td>77.376013</td>\n",
              "      <td>16.742996</td>\n",
              "      <td>96.468164</td>\n",
              "      <td>40.257837</td>\n",
              "      <td>0.499884</td>\n",
              "      <td>93.116925</td>\n",
              "    </tr>\n",
              "    <tr>\n",
              "      <th>std</th>\n",
              "      <td>2.598391e+06</td>\n",
              "      <td>0.496434</td>\n",
              "      <td>16.483814</td>\n",
              "      <td>12.516185</td>\n",
              "      <td>13.448229</td>\n",
              "      <td>5.933957</td>\n",
              "      <td>7.736953</td>\n",
              "      <td>0.393566</td>\n",
              "      <td>0.500058</td>\n",
              "      <td>51.320917</td>\n",
              "    </tr>\n",
              "    <tr>\n",
              "      <th>min</th>\n",
              "      <td>1.000116e+07</td>\n",
              "      <td>0.000000</td>\n",
              "      <td>21.000000</td>\n",
              "      <td>147.000000</td>\n",
              "      <td>56.000000</td>\n",
              "      <td>10.000000</td>\n",
              "      <td>77.000000</td>\n",
              "      <td>39.200000</td>\n",
              "      <td>0.000000</td>\n",
              "      <td>18.000000</td>\n",
              "    </tr>\n",
              "    <tr>\n",
              "      <th>25%</th>\n",
              "      <td>1.204210e+07</td>\n",
              "      <td>0.000000</td>\n",
              "      <td>28.000000</td>\n",
              "      <td>167.000000</td>\n",
              "      <td>66.000000</td>\n",
              "      <td>12.000000</td>\n",
              "      <td>91.000000</td>\n",
              "      <td>40.000000</td>\n",
              "      <td>0.000000</td>\n",
              "      <td>55.000000</td>\n",
              "    </tr>\n",
              "    <tr>\n",
              "      <th>50%</th>\n",
              "      <td>1.418591e+07</td>\n",
              "      <td>1.000000</td>\n",
              "      <td>39.000000</td>\n",
              "      <td>176.000000</td>\n",
              "      <td>77.000000</td>\n",
              "      <td>15.000000</td>\n",
              "      <td>96.000000</td>\n",
              "      <td>40.200000</td>\n",
              "      <td>0.000000</td>\n",
              "      <td>71.000000</td>\n",
              "    </tr>\n",
              "    <tr>\n",
              "      <th>75%</th>\n",
              "      <td>1.633527e+07</td>\n",
              "      <td>1.000000</td>\n",
              "      <td>55.000000</td>\n",
              "      <td>186.000000</td>\n",
              "      <td>88.000000</td>\n",
              "      <td>21.000000</td>\n",
              "      <td>102.000000</td>\n",
              "      <td>40.600000</td>\n",
              "      <td>1.000000</td>\n",
              "      <td>127.000000</td>\n",
              "    </tr>\n",
              "    <tr>\n",
              "      <th>max</th>\n",
              "      <td>1.999858e+07</td>\n",
              "      <td>1.000000</td>\n",
              "      <td>79.000000</td>\n",
              "      <td>213.000000</td>\n",
              "      <td>124.000000</td>\n",
              "      <td>30.000000</td>\n",
              "      <td>125.000000</td>\n",
              "      <td>41.500000</td>\n",
              "      <td>1.000000</td>\n",
              "      <td>314.000000</td>\n",
              "    </tr>\n",
              "  </tbody>\n",
              "</table>\n",
              "</div>\n",
              "      <button class=\"colab-df-convert\" onclick=\"convertToInteractive('df-84c06523-0b72-4b2f-aded-cea1c216a4c8')\"\n",
              "              title=\"Convert this dataframe to an interactive table.\"\n",
              "              style=\"display:none;\">\n",
              "        \n",
              "  <svg xmlns=\"http://www.w3.org/2000/svg\" height=\"24px\"viewBox=\"0 0 24 24\"\n",
              "       width=\"24px\">\n",
              "    <path d=\"M0 0h24v24H0V0z\" fill=\"none\"/>\n",
              "    <path d=\"M18.56 5.44l.94 2.06.94-2.06 2.06-.94-2.06-.94-.94-2.06-.94 2.06-2.06.94zm-11 1L8.5 8.5l.94-2.06 2.06-.94-2.06-.94L8.5 2.5l-.94 2.06-2.06.94zm10 10l.94 2.06.94-2.06 2.06-.94-2.06-.94-.94-2.06-.94 2.06-2.06.94z\"/><path d=\"M17.41 7.96l-1.37-1.37c-.4-.4-.92-.59-1.43-.59-.52 0-1.04.2-1.43.59L10.3 9.45l-7.72 7.72c-.78.78-.78 2.05 0 2.83L4 21.41c.39.39.9.59 1.41.59.51 0 1.02-.2 1.41-.59l7.78-7.78 2.81-2.81c.8-.78.8-2.07 0-2.86zM5.41 20L4 18.59l7.72-7.72 1.47 1.35L5.41 20z\"/>\n",
              "  </svg>\n",
              "      </button>\n",
              "      \n",
              "  <style>\n",
              "    .colab-df-container {\n",
              "      display:flex;\n",
              "      flex-wrap:wrap;\n",
              "      gap: 12px;\n",
              "    }\n",
              "\n",
              "    .colab-df-convert {\n",
              "      background-color: #E8F0FE;\n",
              "      border: none;\n",
              "      border-radius: 50%;\n",
              "      cursor: pointer;\n",
              "      display: none;\n",
              "      fill: #1967D2;\n",
              "      height: 32px;\n",
              "      padding: 0 0 0 0;\n",
              "      width: 32px;\n",
              "    }\n",
              "\n",
              "    .colab-df-convert:hover {\n",
              "      background-color: #E2EBFA;\n",
              "      box-shadow: 0px 1px 2px rgba(60, 64, 67, 0.3), 0px 1px 3px 1px rgba(60, 64, 67, 0.15);\n",
              "      fill: #174EA6;\n",
              "    }\n",
              "\n",
              "    [theme=dark] .colab-df-convert {\n",
              "      background-color: #3B4455;\n",
              "      fill: #D2E3FC;\n",
              "    }\n",
              "\n",
              "    [theme=dark] .colab-df-convert:hover {\n",
              "      background-color: #434B5C;\n",
              "      box-shadow: 0px 1px 3px 1px rgba(0, 0, 0, 0.15);\n",
              "      filter: drop-shadow(0px 1px 2px rgba(0, 0, 0, 0.3));\n",
              "      fill: #FFFFFF;\n",
              "    }\n",
              "  </style>\n",
              "\n",
              "      <script>\n",
              "        const buttonEl =\n",
              "          document.querySelector('#df-84c06523-0b72-4b2f-aded-cea1c216a4c8 button.colab-df-convert');\n",
              "        buttonEl.style.display =\n",
              "          google.colab.kernel.accessAllowed ? 'block' : 'none';\n",
              "\n",
              "        async function convertToInteractive(key) {\n",
              "          const element = document.querySelector('#df-84c06523-0b72-4b2f-aded-cea1c216a4c8');\n",
              "          const dataTable =\n",
              "            await google.colab.kernel.invokeFunction('convertToInteractive',\n",
              "                                                     [key], {});\n",
              "          if (!dataTable) return;\n",
              "\n",
              "          const docLinkHtml = 'Like what you see? Visit the ' +\n",
              "            '<a target=\"_blank\" href=https://colab.research.google.com/notebooks/data_table.ipynb>data table notebook</a>'\n",
              "            + ' to learn more about interactive tables.';\n",
              "          element.innerHTML = '';\n",
              "          dataTable['output_type'] = 'display_data';\n",
              "          await google.colab.output.renderOutput(dataTable, element);\n",
              "          const docLink = document.createElement('div');\n",
              "          docLink.innerHTML = docLinkHtml;\n",
              "          element.appendChild(docLink);\n",
              "        }\n",
              "      </script>\n",
              "    </div>\n",
              "  </div>\n",
              "  "
            ]
          },
          "metadata": {},
          "execution_count": 11
        }
      ]
    },
    {
      "cell_type": "code",
      "source": [
        "calories.info()"
      ],
      "metadata": {
        "colab": {
          "base_uri": "https://localhost:8080/"
        },
        "id": "xcr2u0pe7B0N",
        "outputId": "f7fe4615-e375-4f10-d1ca-c278704a4f90"
      },
      "execution_count": null,
      "outputs": [
        {
          "output_type": "stream",
          "name": "stdout",
          "text": [
            "<class 'pandas.core.frame.DataFrame'>\n",
            "RangeIndex: 4319 entries, 0 to 4318\n",
            "Data columns (total 10 columns):\n",
            " #   Column         Non-Null Count  Dtype  \n",
            "---  ------         --------------  -----  \n",
            " 0   User_ID        4319 non-null   int64  \n",
            " 1   Gender         4319 non-null   int64  \n",
            " 2   Age            4319 non-null   int64  \n",
            " 3   Height         4319 non-null   int64  \n",
            " 4   Weight         4319 non-null   int64  \n",
            " 5   Duration       4319 non-null   int64  \n",
            " 6   Heart_Rate     4319 non-null   int64  \n",
            " 7   Body_Temp      4319 non-null   float64\n",
            " 8   Exercise_Type  4319 non-null   int64  \n",
            " 9   Calories       4319 non-null   int64  \n",
            "dtypes: float64(1), int64(9)\n",
            "memory usage: 337.5 KB\n"
          ]
        }
      ]
    },
    {
      "cell_type": "code",
      "source": [
        "# finding correlation\n",
        "correlation = calories.corr()"
      ],
      "metadata": {
        "id": "4f6aFHZtBxNC"
      },
      "execution_count": null,
      "outputs": []
    },
    {
      "cell_type": "code",
      "source": [
        "plt.figure(figsize=(10,10))\n",
        "sns.heatmap(correlation, cbar=True, square=True, fmt='.1f', annot=True, annot_kws={'size':8}, cmap= 'Reds')"
      ],
      "metadata": {
        "colab": {
          "base_uri": "https://localhost:8080/",
          "height": 624
        },
        "id": "_S_8EeB4B86q",
        "outputId": "2efe6d4d-faaa-4dae-e781-5691b5a78901"
      },
      "execution_count": null,
      "outputs": [
        {
          "output_type": "execute_result",
          "data": {
            "text/plain": [
              "<matplotlib.axes._subplots.AxesSubplot at 0x7f4879244f50>"
            ]
          },
          "metadata": {},
          "execution_count": 14
        },
        {
          "output_type": "display_data",
          "data": {
            "text/plain": [
              "<Figure size 720x720 with 2 Axes>"
            ],
            "image/png": "[encoded data removed]"
          },
          "metadata": {
            "needs_background": "light"
          }
        }
      ]
    },
    {
      "cell_type": "code",
      "source": [
        "#seprating features and label\n",
        "X = calories.drop(columns=['User_ID', 'Calories'], axis=1)\n",
        "Y = calories['Calories']"
      ],
      "metadata": {
        "id": "K30T2DltH4z5"
      },
      "execution_count": null,
      "outputs": []
    },
    {
      "cell_type": "code",
      "source": [
        "print(X)"
      ],
      "metadata": {
        "colab": {
          "base_uri": "https://localhost:8080/"
        },
        "id": "YN2WjZWhH8JA",
        "outputId": "22e45765-82ea-4051-8163-41a58028f5a3"
      },
      "execution_count": null,
      "outputs": [
        {
          "output_type": "stream",
          "name": "stdout",
          "text": [
            "      Gender  Age  Height  Weight  Duration  Heart_Rate  Body_Temp  \\\n",
            "0          0   67     176      74        12         103       39.6   \n",
            "1          0   38     178      77        14          82       40.5   \n",
            "2          1   23     169      73        25         102       40.7   \n",
            "3          0   21     185      80        12         103       39.9   \n",
            "4          1   56     165      74        25          93       40.8   \n",
            "...      ...  ...     ...     ...       ...         ...        ...   \n",
            "4314       0   32     150      57        19          96       40.3   \n",
            "4315       0   36     170      65        12          93       40.1   \n",
            "4316       1   36     205     112        22         107       40.9   \n",
            "4317       1   38     164      73        14          91       40.1   \n",
            "4318       1   22     185      80        27         112       40.7   \n",
            "\n",
            "      Exercise_Type  \n",
            "0                 0  \n",
            "1                 1  \n",
            "2                 0  \n",
            "3                 1  \n",
            "4                 0  \n",
            "...             ...  \n",
            "4314              0  \n",
            "4315              1  \n",
            "4316              0  \n",
            "4317              1  \n",
            "4318              0  \n",
            "\n",
            "[4319 rows x 8 columns]\n"
          ]
        }
      ]
    },
    {
      "cell_type": "code",
      "source": [
        "print(Y)"
      ],
      "metadata": {
        "colab": {
          "base_uri": "https://localhost:8080/"
        },
        "id": "TDBAZ33fH--g",
        "outputId": "94ec1231-9678-40d5-c4ba-f3090dcdecd5"
      },
      "execution_count": null,
      "outputs": [
        {
          "output_type": "stream",
          "name": "stdout",
          "text": [
            "0        76\n",
            "1        49\n",
            "2       122\n",
            "3        65\n",
            "4       129\n",
            "       ... \n",
            "4314     98\n",
            "4315     58\n",
            "4316    157\n",
            "4317     55\n",
            "4318    176\n",
            "Name: Calories, Length: 4319, dtype: int64\n"
          ]
        }
      ]
    },
    {
      "cell_type": "code",
      "source": [
        "#train and texting data\n",
        "X_train, X_test, Y_train, Y_test = train_test_split(X, Y, test_size=0.2, random_state=2)"
      ],
      "metadata": {
        "id": "0BDFr9k-IFr4"
      },
      "execution_count": null,
      "outputs": []
    },
    {
      "cell_type": "code",
      "source": [
        "print(X_train.shape, X_test.shape, Y_train.shape, Y_test.shape)"
      ],
      "metadata": {
        "colab": {
          "base_uri": "https://localhost:8080/"
        },
        "id": "k2tlUMRUIP_4",
        "outputId": "cc6bc018-4aa8-4893-ff83-12911cd695ac"
      },
      "execution_count": null,
      "outputs": [
        {
          "output_type": "stream",
          "name": "stdout",
          "text": [
            "(3455, 8) (864, 8) (3455,) (864,)\n"
          ]
        }
      ]
    },
    {
      "cell_type": "code",
      "source": [
        "#model training\n",
        "model = RandomForestRegressor()\n",
        "#(n_estimators = 1000 , max_features = 3 , max_depth = 6)"
      ],
      "metadata": {
        "id": "HUfL-KbeIeiQ"
      },
      "execution_count": null,
      "outputs": []
    },
    {
      "cell_type": "code",
      "source": [
        "model.fit(X_train, Y_train)"
      ],
      "metadata": {
        "colab": {
          "base_uri": "https://localhost:8080/"
        },
        "id": "aNNOgGeZItWw",
        "outputId": "b370ead6-1c3f-4b7d-b411-0faf1fb437f2"
      },
      "execution_count": null,
      "outputs": [
        {
          "output_type": "execute_result",
          "data": {
            "text/plain": [
              "RandomForestRegressor()"
            ]
          },
          "metadata": {},
          "execution_count": 24
        }
      ]
    },
    {
      "cell_type": "code",
      "source": [
        "#prediction on test data\n",
        "test_data_prediction = model.predict(X_test)"
      ],
      "metadata": {
        "id": "xdzuBGlsIv1o"
      },
      "execution_count": null,
      "outputs": []
    },
    {
      "cell_type": "code",
      "source": [
        "print(test_data_prediction)"
      ],
      "metadata": {
        "id": "6DWWNYfxI3Uv",
        "colab": {
          "base_uri": "https://localhost:8080/"
        },
        "outputId": "c55c5e19-f49c-49e5-d3e9-538f677374e8"
      },
      "execution_count": null,
      "outputs": [
        {
          "output_type": "stream",
          "name": "stdout",
          "text": [
            "[ 76.13 123.59  90.17  37.11  66.14 206.07  56.14  54.63  50.06  78.19\n",
            "  62.43 129.52  63.26 105.45 132.5   51.51 139.05  77.44  56.54  66.83\n",
            "  52.14  52.54 179.72  48.86  74.05  82.94 122.46  62.88  60.67  51.61\n",
            "  65.37  49.14 111.77  83.29  48.31 179.51  62.38  85.54 154.16  35.43\n",
            "  58.19  82.81  52.68  61.2   91.59 132.44  76.13  48.35  49.23  92.1\n",
            "  59.05  52.71  53.68  32.16  59.27  37.25  60.28 168.67  56.02  48.67\n",
            " 157.28 116.59 227.69  62.09  75.91  79.84 158.83  88.88 130.33 133.73\n",
            "  62.01  57.25  51.16 104.81 142.75  78.71 141.95  82.72 188.42  78.75\n",
            "  52.88  51.08  38.34 173.42  34.64  61.75  85.79  64.78  65.89  61.75\n",
            "  78.04  65.97  42.49  64.18  79.44  91.95 103.89 168.16  36.95  47.99\n",
            "  75.52 174.78  57.06  45.98 124.71  91.07  46.3   77.81  72.55  88.37\n",
            "  48.69 119.59  57.68  50.42 145.56  73.03 117.11  47.49 103.09 103.57\n",
            " 104.74  80.11  43.97  66.69 199.74  40.49  60.41 117.13  44.64  58.36\n",
            " 122.03 105.04  63.16  55.72  50.81 122.93  76.86 132.4   65.35  44.54\n",
            "  96.12  66.31  56.62  42.63 148.04  55.67 241.85 118.66  42.52  29.05\n",
            "  65.14 112.84 106.87  63.7   53.88  64.45  44.78  45.85 189.07  45.83\n",
            "  82.76 187.61  52.78 234.06  79.01  50.32 107.58 192.92  48.94  56.77\n",
            " 161.69 166.3   53.43  63.45  58.45 107.2   62.94  52.67  73.33  64.44\n",
            "  67.    45.18  80.02  64.97  55.15 160.11  75.43  39.09  93.24 231.16\n",
            "  51.18  80.99 174.88 184.4  155.17 119.44  54.28  48.81 246.02 120.46\n",
            "  74.75  45.72  62.65  56.18  96.3  174.65  46.72  41.33  54.97  53.25\n",
            "  90.98  36.02 196.86 110.13  49.82 146.11  62.14 217.98 106.6   90.18\n",
            "  45.61 194.75  60.73  51.68  78.27  83.8   40.79 163.98  63.86  79.96\n",
            "  55.54  98.68 179.55  80.31 113.21  80.47 200.06 193.93  56.39 118.72\n",
            "  83.33  99.09  55.27  60.13  60.12  75.9   65.93  62.94 150.45 174.92\n",
            "  64.24  65.81  86.93 130.29  50.31  41.48  58.67  60.54  91.16  79.73\n",
            " 119.17  58.06 185.4   45.33  66.85 145.99  57.29  65.19  78.7   25.94\n",
            "  40.55 139.7   35.11 116.37  46.03  79.08  85.96  60.2   80.02  35.78\n",
            " 133.46  62.55  66.02  48.2   85.31  99.71  84.73  92.38  54.16  36.19\n",
            " 143.53 139.44  48.86  85.44  84.68  62.02  59.32 125.64 111.88 131.78\n",
            "  61.02 214.83  29.08  62.14  64.45  51.64 227.69 170.29  48.86 188.77\n",
            " 181.21  58.06 149.9   78.74  37.25  77.48  65.21 128.94  47.37 124.96\n",
            " 181.27  53.54  78.74 147.44 102.38 120.14  75.95  41.94 179.95  56.91\n",
            " 186.87  51.76  97.82 215.67  48.45 214.55 144.21  78.73  66.23  94.93\n",
            "  45.03 152.68 145.56 169.64  46.83 182.77 107.23  62.66 205.43  36.84\n",
            "  40.36  63.99 209.87  91.46  52.51 181.51  62.72  86.01  53.97  51.32\n",
            "  64.79  59.29  59.62  74.2   57.78  41.   112.09  49.53  53.72 151.57\n",
            " 176.62  90.76  74.7  116.92  45.14 198.39 130.24  64.18 159.6   61.08\n",
            "  74.9   51.67 189.73  62.22  60.9   61.74  48.47  90.13  53.26 149.29\n",
            "  40.52  63.77  56.76  58.96 211.88  77.51 123.01 140.61 109.88  57.43\n",
            "  66.5  129.79 195.92  62.41 158.27  27.3   58.38 147.53  47.9   55.41\n",
            "  80.82  61.55 166.27  63.74 116.02  84.54  77.61  46.45  44.81  80.56\n",
            "  94.46  92.38  79.81  61.06  29.3   79.12  42.94 187.67 140.7   89.98\n",
            "  63.2   57.44  44.49  42.62  60.6  137.05  58.46  62.73 214.93  54.55\n",
            "  46.74 197.48  62.13 190.3   54.    47.8   53.92 106.63  50.15  63.67\n",
            "  54.77  90.09 152.98  75.91 179.07 129.2   34.84 171.84  43.81  58.56\n",
            "  66.72 146.94  61.84  51.75 100.51  61.39  50.46 105.62 106.04  85.76\n",
            "  85.94  54.77  77.19  62.32 202.58  55.64  49.43  41.65 178.18 166.16\n",
            "  50.27  63.08  54.24  58.84 127.92  79.79  99.22 175.67 194.87 202.69\n",
            " 204.07  64.68  91.89  62.5   59.94 182.1   57.06 141.11  59.12 144.4\n",
            " 141.63  66.01  76.88 125.65  37.45  66.11  47.18  92.96 144.38 190.39\n",
            " 115.25  65.96 132.96 187.1  116.08 177.38  61.76 146.69 114.41 150.23\n",
            "  60.65 128.3   64.85 104.68  67.21  64.37  37.87 185.05  62.83  65.17\n",
            "  63.7  179.62  63.96  62.42  53.92  88.21  75.98  55.92  59.77 139.42\n",
            "  43.17 106.3  152.04 119.22  57.77  80.62  61.84  82.6   56.69  64.77\n",
            " 178.61 170.61  65.76  46.36  53.64  74.72 100.06  80.37  41.97  58.04\n",
            "  65.4   61.22 110.95  49.54 220.43 146.51 108.24  62.09 139.83 174.03\n",
            "  79.79  61.77 177.11  59.27  95.69 103.07  66.42  39.7   52.73 144.53\n",
            "  55.7   49.89  49.27 172.68 126.27  56.91  58.32  51.54  61.57  99.56\n",
            "  77.51  43.75  87.12 145.55 170.46  61.79  74.15 183.73  62.89  60.\n",
            "  66.46 126.53 188.01  62.89  51.64 163.97 181.9   38.19 124.37  21.11\n",
            "  57.51  62.7   56.66 189.38  58.13  54.82 160.89 202.61  61.97 162.91\n",
            "  56.03 125.24  45.5   60.61  62.51  82.91 172.16  92.59 142.79  94.95\n",
            "  44.99 119.31  39.98 130.41 216.91  53.35  79.38 164.6  104.4   54.88\n",
            " 163.95  45.54  65.89  32.31  56.23  81.91 229.09 137.4   90.34  57.52\n",
            "  50.18  64.11  60.   157.04 199.71  46.73 107.48  60.84 101.01 105.25\n",
            " 122.06  74.04 227.67  56.37 142.77  51.54  60.25  42.95  59.15 138.38\n",
            "  43.32 168.39  50.02 100.48 125.72  55.51 149.82 131.62  37.42 113.76\n",
            " 172.12  89.07  38.8   78.43  63.68  45.2  123.5  195.62  56.37  76.94\n",
            " 195.01 128.57  39.6   94.06  32.23 122.12  64.73 118.1   82.31  46.57\n",
            "  46.06 176.98  48.88 117.53  58.98 111.35 169.99  48.03 145.45  40.82\n",
            "  63.65  39.2  110.8  158.08  62.99  75.25  53.56 157.62  61.99  54.66\n",
            "  43.68  44.33  62.08 102.67  58.5  177.7   54.2   79.65  62.22  89.91\n",
            " 142.85 163.01  76.84 103.91  86.02  62.83 149.63  61.95  39.86  34.19\n",
            "  64.85  58.25 122.62 155.02  48.97 190.3   73.09  95.54 126.26 224.89\n",
            " 179.89 157.7   60.75 132.6   47.64  48.05  51.57  90.99 152.88  62.82\n",
            "  46.91  52.28  93.89 115.31  60.01  64.18 121.16  61.04 146.67 148.79\n",
            " 148.17  42.32 130.71  74.87  50.95  79.56 102.71 168.62  78.46  95.32\n",
            " 226.57  88.57  92.98  86.37  80.76  38.83  28.13  42.1   99.5  111.06\n",
            " 139.77 162.28 136.31  95.47  43.84  58.97 234.55  59.72  61.53  50.69\n",
            " 172.53  63.19  81.68 185.6  174.11  59.96  62.04 256.9   49.14 122.34\n",
            "  47.04  50.32  48.36 255.47  58.35 123.62  54.01  74.87  56.51 161.06\n",
            "  52.83 115.83 122.43  73.24  76.07  42.48  94.2  162.98 135.55  96.41\n",
            " 148.36  66.9   45.05  59.25  73.34 208.76 204.27 155.73 142.95  77.4\n",
            " 223.48  98.08 191.72 185.55  38.43  46.33 154.92  43.99  61.7   78.52\n",
            "  44.36 176.83  49.34  55.37  49.21  63.08  45.48  73.87  48.68 117.9\n",
            " 110.52 157.35  49.39  46.5 ]\n"
          ]
        }
      ]
    },
    {
      "cell_type": "code",
      "source": [
        "#mean absolute error\n",
        "mae= metrics.mean_absolute_error(Y_test, test_data_prediction)\n",
        "print(\"Mean Absolute Error = \", mae)"
      ],
      "metadata": {
        "colab": {
          "base_uri": "https://localhost:8080/"
        },
        "id": "S4Juz2MKI5-H",
        "outputId": "4fe26331-3fec-4479-ac25-03b8551d27a1"
      },
      "execution_count": null,
      "outputs": [
        {
          "output_type": "stream",
          "name": "stdout",
          "text": [
            "Mean Absolute Error =  2.9338078703703707\n"
          ]
        }
      ]
    },
    {
      "cell_type": "code",
      "source": [
        "import pickle  \n",
        "pickle.dump(model, open('/content/Cmodel.pkl', 'wb'))"
      ],
      "metadata": {
        "id": "cKsw-wA-JBDf"
      },
      "execution_count": null,
      "outputs": []
    }
  ]
}